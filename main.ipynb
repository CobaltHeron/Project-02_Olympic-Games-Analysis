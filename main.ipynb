{
 "cells": [
  {
   "cell_type": "code",
   "execution_count": null,
   "id": "6be53db0-9fc1-4c55-babc-800ddec22d1f",
   "metadata": {},
   "outputs": [],
   "source": [
    "# Importamos librerias necesarias\n",
    "import charset_normalizer\n",
    "import pandas as pd\n",
    "import numpy as np\n",
    "import matplotlib.pyplot as plt\n",
    "from matplotlib import style\n",
    "import seaborn as sns\n",
    "import warnings\n",
    "warnings.filterwarnings('ignore')\n",
    "# import missingno as msno # Esta sirve para verificar valores faltantes / nulls\n",
    "\n",
    "# Comprobar encoding de los dataset\n",
    "with open('athletes.csv', 'rb') as rawdata:\n",
    "    rawdata1 = charset_normalizer.detect(rawdata.read(10000))\n",
    "print(rawdata1) # {'encoding': 'utf-8', 'language': 'English', 'confidence': 1.0}\n",
    "\n",
    "with open('olympic_games_results.csv', 'rb') as rawdata:\n",
    "    rawdata2 = charset_normalizer.detect(rawdata.read(10000))\n",
    "print(rawdata2) # {'encoding': 'utf-8', 'language': 'French', 'confidence': 1.0}\n",
    "\n"
   ]
  },
  {
   "cell_type": "code",
   "execution_count": null,
   "id": "874ac145-a303-4fc2-9b0b-dbfbe6aaf04e",
   "metadata": {},
   "outputs": [],
   "source": [
    "# Cargamos las dos bases de datos en dataframes\n",
    "athletes_df = pd.read_csv('athletes.csv', encoding='utf-8')\n",
    "olympic_df = pd.read_csv('olympic_games_results.csv', encoding='utf-8')\n",
    "\n",
    "athletes_df.shape # shape nos devuelve info sobre el nº de filas y columnas"
   ]
  },
  {
   "cell_type": "code",
   "execution_count": null,
   "id": "d2ea8661-defc-4dd6-96c1-145a3612cf30",
   "metadata": {},
   "outputs": [],
   "source": [
    "olympic_df.shape "
   ]
  },
  {
   "cell_type": "code",
   "execution_count": null,
   "id": "16184fb4-7bd4-4076-ae74-1f6b33ffaf0b",
   "metadata": {},
   "outputs": [],
   "source": [
    "# IMPORTANTE - Unimos ambas bases de datos en un solo dataframe\n",
    "\n",
    "merged_df = pd.merge(olympic_df, athletes_df, on='athlete_id', how='inner')\n",
    "merged_df.sample(10) # sample nos devuelve X registro del dataframe al azar"
   ]
  },
  {
   "cell_type": "code",
   "execution_count": null,
   "id": "56f92365-f6bf-4fa4-a642-4498e77360fa",
   "metadata": {},
   "outputs": [],
   "source": [
    "merged_df.head(10)"
   ]
  },
  {
   "cell_type": "code",
   "execution_count": null,
   "id": "f364816b-f585-4942-848e-4c58c93e6f58",
   "metadata": {},
   "outputs": [],
   "source": [
    "merged_df.shape"
   ]
  },
  {
   "cell_type": "code",
   "execution_count": null,
   "id": "463ca5f9-08cc-4f2f-9ab9-fd35904ee667",
   "metadata": {},
   "outputs": [],
   "source": [
    "merged_df.describe()"
   ]
  },
  {
   "cell_type": "code",
   "execution_count": null,
   "id": "fb7bc613-1515-420f-bdbe-1a564d7a7f98",
   "metadata": {},
   "outputs": [],
   "source": [
    "merged_df.info()"
   ]
  },
  {
   "cell_type": "code",
   "execution_count": null,
   "id": "50cbf567-9040-434a-a1b0-58ba07dc0952",
   "metadata": {},
   "outputs": [],
   "source": [
    "print(merged_df.isnull().sum())"
   ]
  },
  {
   "cell_type": "code",
   "execution_count": null,
   "id": "3f178c2a-2e76-46c0-8e9d-2202190e73b4",
   "metadata": {},
   "outputs": [],
   "source": [
    "duplicated = merged_df.duplicated().sum()\n",
    "print(duplicated)"
   ]
  },
  {
   "cell_type": "code",
   "execution_count": null,
   "id": "b92023f4-985a-4903-b4b6-f1053e8cb5e4",
   "metadata": {},
   "outputs": [],
   "source": [
    "var_num = merged_df.select_dtypes(exclude='object').columns.to_list()\n",
    "\n",
    "var_cat = merged_df.select_dtypes(include='object').columns.to_list()"
   ]
  },
  {
   "cell_type": "code",
   "execution_count": null,
   "id": "5b3ce06c-0bc0-4d1e-ae44-99ed1d0c3841",
   "metadata": {},
   "outputs": [],
   "source": [
    "var_cat"
   ]
  },
  {
   "cell_type": "code",
   "execution_count": null,
   "id": "0eb7c8fa-9dd5-41c2-924c-a84321eea9dd",
   "metadata": {},
   "outputs": [],
   "source": [
    "compare_columns = merged_df['noc'].equals(merged_df['NOC'])\n",
    "compare_columns"
   ]
  },
  {
   "cell_type": "code",
   "execution_count": null,
   "id": "065703e2-6f1b-4756-8d64-3c544e8f0cd4",
   "metadata": {},
   "outputs": [],
   "source": [
    "for col in merged_df.columns:\n",
    "    print(f\"{col}: {merged_df[col].unique()}\\n\\n\")"
   ]
  },
  {
   "cell_type": "code",
   "execution_count": null,
   "id": "1cffbf96-13b6-4ef7-afe8-ea0697918b4d",
   "metadata": {},
   "outputs": [],
   "source": [
    "merged_df.drop('NOC', axis=1, inplace=True)\n",
    "merged_df.head()"
   ]
  },
  {
   "cell_type": "code",
   "execution_count": null,
   "id": "f97cbe25-af94-4396-b586-522514940fb2",
   "metadata": {},
   "outputs": [],
   "source": [
    "merged_df.shape"
   ]
  },
  {
   "cell_type": "markdown",
   "id": "dbd5dfa2-3e24-4dec-822b-ae69a0759a2a",
   "metadata": {},
   "source": [
    "# ANÁLISIS UNIDIMENSIONAL"
   ]
  },
  {
   "cell_type": "markdown",
   "id": "89221f25-68cd-43b7-8ff3-5d6b4175b98f",
   "metadata": {},
   "source": [
    "## Unidimensional numérico"
   ]
  },
  {
   "cell_type": "code",
   "execution_count": null,
   "id": "1689e962-6811-4178-930c-d295f316f952",
   "metadata": {},
   "outputs": [],
   "source": [
    "# valores colormap\n",
    "TABLEAU_CMP = ('tab:blue', 'tab:orange', 'tab:green', 'tab:red', 'tab:purple', 'tab:brown', 'tab:pink', \\\n",
    "               'tab:gray','tab:olive', 'tab:cyan')"
   ]
  },
  {
   "cell_type": "code",
   "execution_count": null,
   "id": "3e6d9711-763c-42cd-acf0-f4106e3c6ee0",
   "metadata": {},
   "outputs": [],
   "source": [
    "# creamos la grafica\n",
    "fig, axes = plt.subplots(len(var_num), 2, \\\n",
    "                         figsize=(20, 5 * len(var_num)), \\\n",
    "                         gridspec_kw={'hspace': 0.4, 'wspace': 0.1})\n",
    "ax = axes.ravel()\n",
    "\n",
    "# graficas distribucion y boxplot de cada atributo\n",
    "for idx, atributo in enumerate(var_num):\n",
    "\n",
    "    # distribucion (histograma)\n",
    "    sns.distplot(merged_df[atributo], bins=30, ax=ax[2 * idx], \\\n",
    "                 color=TABLEAU_CMP[idx % len(TABLEAU_CMP)], \\\n",
    "                 hist_kws={'alpha': 0.15})\n",
    "\n",
    "# titulo, etiquetas histograma\n",
    "    ax[2 * idx].set_title(f'HISTOGRAMA {atributo}')\n",
    "    ax[2 * idx].set_xlabel(f'Valores {atributo}')\n",
    "    ax[2 * idx].set_ylabel(\"Frequencia\")\n",
    "\n",
    "    # boxplot\n",
    "    sns.boxplot(x=atributo, data=merged_df, ax=ax[2 * idx + 1], color=TABLEAU_CMP[idx % len(TABLEAU_CMP)])\n",
    "\n",
    "    # titulo, etiquetas boxplot\n",
    "    ax[2 * idx + 1].set_title(f'BOXPLOT {atributo}')\n",
    "    ax[2 * idx + 1].set_xlabel(f'Valores {atributo}')"
   ]
  },
  {
   "cell_type": "markdown",
   "id": "3e63b892-653e-44f1-8f97-07dbc10061f3",
   "metadata": {},
   "source": [
    "## Univariado categórico"
   ]
  },
  {
   "cell_type": "code",
   "execution_count": null,
   "id": "cebe95dd-247b-4520-a035-a8d61e850d43",
   "metadata": {},
   "outputs": [],
   "source": [
    "colores = sns.color_palette(\"husl\", len(var_cat))"
   ]
  },
  {
   "cell_type": "code",
   "execution_count": null,
   "id": "9ad635d8-2bea-4428-bdb1-579e6ff5c5e0",
   "metadata": {},
   "outputs": [],
   "source": [
    "# creacion graficas\n",
    "fig, axes = plt.subplots(len(var_cat), 1, \\\n",
    "                         figsize=(10, 5*len(var_cat)),\\\n",
    "                         gridspec_kw={'hspace': 0.4, 'wspace': 0.4})\n",
    "\n",
    "ax = axes.ravel()\n",
    "\n",
    "# dibujamos las graficas\n",
    "for idx,variable in enumerate(var_cat):\n",
    "\n",
    "# utilizar el método de dibujo que nos interese en cada momento\n",
    "# sustituir nombre dataframe y parámetros según método de dibujo\n",
    "    sns.countplot(merged_df[variable], ax=ax[idx],\\\n",
    "                  palette=colores)\n",
    "\n",
    "    ax[idx].set_title(f'HISTOGRAMA {variable}')\n",
    "    ax[idx].set_xlabel(f'Valores atributo {variable}')\n",
    "    ax[idx].set_ylabel(\"Frequencia\")"
   ]
  },
  {
   "cell_type": "markdown",
   "id": "b70f662a-4618-4b3f-95ee-ec552fa65a59",
   "metadata": {},
   "source": []
  }
 ],
 "metadata": {
  "kernelspec": {
   "display_name": "Python [conda env:base] *",
   "language": "python",
   "name": "conda-base-py"
  },
  "language_info": {
   "codemirror_mode": {
    "name": "ipython",
    "version": 3
   },
   "file_extension": ".py",
   "mimetype": "text/x-python",
   "name": "python",
   "nbconvert_exporter": "python",
   "pygments_lexer": "ipython3",
   "version": "3.12.4"
  }
 },
 "nbformat": 4,
 "nbformat_minor": 5
}
